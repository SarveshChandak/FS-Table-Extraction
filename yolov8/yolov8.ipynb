{
 "cells": [
  {
   "cell_type": "code",
   "execution_count": 4,
   "id": "58de570f",
   "metadata": {},
   "outputs": [
    {
     "name": "stderr",
     "output_type": "stream",
     "text": [
      "c:\\Users\\sarve\\Documents\\Personal Experiments\\Table Extraction\\.table_extraction\\Lib\\site-packages\\ultralytics\\yolo\\utils\\checks.py:17: UserWarning: pkg_resources is deprecated as an API. See https://setuptools.pypa.io/en/latest/pkg_resources.html. The pkg_resources package is slated for removal as early as 2025-11-30. Refrain from using this package or pin to Setuptools<81.\n",
      "  import pkg_resources as pkg\n"
     ]
    }
   ],
   "source": [
    "import os\n",
    "from ultralyticsplus import YOLO, render_result"
   ]
  },
  {
   "cell_type": "code",
   "execution_count": 3,
   "id": "a5b55427",
   "metadata": {},
   "outputs": [],
   "source": [
    "pdf_path = \"../Input/AAPL 2024 10k.pdf\"\n",
    "img_path = \"page_img.png\"\n",
    "output_excel_path = \"./Output/tables_output.xlsx\"\n",
    "os.makedirs(os.path.dirname(output_excel_path), exist_ok=True)"
   ]
  },
  {
   "cell_type": "code",
   "execution_count": 5,
   "id": "ab676177",
   "metadata": {},
   "outputs": [
    {
     "name": "stderr",
     "output_type": "stream",
     "text": [
      "c:\\Users\\sarve\\Documents\\Personal Experiments\\Table Extraction\\.table_extraction\\Lib\\site-packages\\tqdm\\auto.py:21: TqdmWarning: IProgress not found. Please update jupyter and ipywidgets. See https://ipywidgets.readthedocs.io/en/stable/user_install.html\n",
      "  from .autonotebook import tqdm as notebook_tqdm\n"
     ]
    },
    {
     "ename": "NotImplementedError",
     "evalue": "Unable to load model='foduucom/table-detection-and-extraction'. As an example try model='yolov8n.pt' or model='yolov8n.yaml'",
     "output_type": "error",
     "traceback": [
      "\u001b[31m---------------------------------------------------------------------------\u001b[39m",
      "\u001b[31mUnpicklingError\u001b[39m                           Traceback (most recent call last)",
      "\u001b[36mFile \u001b[39m\u001b[32mc:\\Users\\sarve\\Documents\\Personal Experiments\\Table Extraction\\.table_extraction\\Lib\\site-packages\\ultralyticsplus\\ultralytics_utils.py:56\u001b[39m, in \u001b[36mYOLO.__init__\u001b[39m\u001b[34m(self, model, type, hf_token)\u001b[39m\n\u001b[32m     55\u001b[39m \u001b[38;5;28;01mif\u001b[39;00m Path(model).suffix \u001b[38;5;129;01mnot\u001b[39;00m \u001b[38;5;129;01min\u001b[39;00m (\u001b[33m\"\u001b[39m\u001b[33m.pt\u001b[39m\u001b[33m\"\u001b[39m, \u001b[33m\"\u001b[39m\u001b[33m.yaml\u001b[39m\u001b[33m\"\u001b[39m):\n\u001b[32m---> \u001b[39m\u001b[32m56\u001b[39m     \u001b[38;5;28;43mself\u001b[39;49m\u001b[43m.\u001b[49m\u001b[43m_load_from_hf_hub\u001b[49m\u001b[43m(\u001b[49m\u001b[43mmodel\u001b[49m\u001b[43m,\u001b[49m\u001b[43m \u001b[49m\u001b[43mhf_token\u001b[49m\u001b[43m=\u001b[49m\u001b[43mhf_token\u001b[49m\u001b[43m)\u001b[49m\n\u001b[32m     57\u001b[39m \u001b[38;5;28;01melif\u001b[39;00m suffix == \u001b[33m\"\u001b[39m\u001b[33m.yaml\u001b[39m\u001b[33m\"\u001b[39m:\n",
      "\u001b[36mFile \u001b[39m\u001b[32mc:\\Users\\sarve\\Documents\\Personal Experiments\\Table Extraction\\.table_extraction\\Lib\\site-packages\\ultralyticsplus\\ultralytics_utils.py:78\u001b[39m, in \u001b[36mYOLO._load_from_hf_hub\u001b[39m\u001b[34m(self, weights, hf_token)\u001b[39m\n\u001b[32m     76\u001b[39m weights = download_from_hub(weights, hf_token=hf_token)\n\u001b[32m---> \u001b[39m\u001b[32m78\u001b[39m \u001b[38;5;28mself\u001b[39m.model, \u001b[38;5;28mself\u001b[39m.ckpt = \u001b[43mattempt_load_one_weight\u001b[49m\u001b[43m(\u001b[49m\u001b[43mweights\u001b[49m\u001b[43m)\u001b[49m\n\u001b[32m     79\u001b[39m \u001b[38;5;28mself\u001b[39m.ckpt_path = weights\n",
      "\u001b[36mFile \u001b[39m\u001b[32mc:\\Users\\sarve\\Documents\\Personal Experiments\\Table Extraction\\.table_extraction\\Lib\\site-packages\\ultralytics\\nn\\tasks.py:394\u001b[39m, in \u001b[36mattempt_load_one_weight\u001b[39m\u001b[34m(weight, device, inplace, fuse)\u001b[39m\n\u001b[32m    392\u001b[39m \u001b[38;5;28;01mdef\u001b[39;00m\u001b[38;5;250m \u001b[39m\u001b[34mattempt_load_one_weight\u001b[39m(weight, device=\u001b[38;5;28;01mNone\u001b[39;00m, inplace=\u001b[38;5;28;01mTrue\u001b[39;00m, fuse=\u001b[38;5;28;01mFalse\u001b[39;00m):\n\u001b[32m    393\u001b[39m     \u001b[38;5;66;03m# Loads a single model weights\u001b[39;00m\n\u001b[32m--> \u001b[39m\u001b[32m394\u001b[39m     ckpt, weight = \u001b[43mtorch_safe_load\u001b[49m\u001b[43m(\u001b[49m\u001b[43mweight\u001b[49m\u001b[43m)\u001b[49m  \u001b[38;5;66;03m# load ckpt\u001b[39;00m\n\u001b[32m    395\u001b[39m     args = {**DEFAULT_CFG_DICT, **ckpt[\u001b[33m'\u001b[39m\u001b[33mtrain_args\u001b[39m\u001b[33m'\u001b[39m]}  \u001b[38;5;66;03m# combine model and default args, preferring model args\u001b[39;00m\n",
      "\u001b[36mFile \u001b[39m\u001b[32mc:\\Users\\sarve\\Documents\\Personal Experiments\\Table Extraction\\.table_extraction\\Lib\\site-packages\\ultralytics\\nn\\tasks.py:340\u001b[39m, in \u001b[36mtorch_safe_load\u001b[39m\u001b[34m(weight)\u001b[39m\n\u001b[32m    339\u001b[39m \u001b[38;5;28;01mtry\u001b[39;00m:\n\u001b[32m--> \u001b[39m\u001b[32m340\u001b[39m     \u001b[38;5;28;01mreturn\u001b[39;00m \u001b[43mtorch\u001b[49m\u001b[43m.\u001b[49m\u001b[43mload\u001b[49m\u001b[43m(\u001b[49m\u001b[43mfile\u001b[49m\u001b[43m,\u001b[49m\u001b[43m \u001b[49m\u001b[43mmap_location\u001b[49m\u001b[43m=\u001b[49m\u001b[33;43m'\u001b[39;49m\u001b[33;43mcpu\u001b[39;49m\u001b[33;43m'\u001b[39;49m\u001b[43m)\u001b[49m, file  \u001b[38;5;66;03m# load\u001b[39;00m\n\u001b[32m    341\u001b[39m \u001b[38;5;28;01mexcept\u001b[39;00m \u001b[38;5;167;01mModuleNotFoundError\u001b[39;00m \u001b[38;5;28;01mas\u001b[39;00m e:\n",
      "\u001b[36mFile \u001b[39m\u001b[32mc:\\Users\\sarve\\Documents\\Personal Experiments\\Table Extraction\\.table_extraction\\Lib\\site-packages\\torch\\serialization.py:1524\u001b[39m, in \u001b[36mload\u001b[39m\u001b[34m(f, map_location, pickle_module, weights_only, mmap, **pickle_load_args)\u001b[39m\n\u001b[32m   1523\u001b[39m     \u001b[38;5;28;01mexcept\u001b[39;00m pickle.UnpicklingError \u001b[38;5;28;01mas\u001b[39;00m e:\n\u001b[32m-> \u001b[39m\u001b[32m1524\u001b[39m         \u001b[38;5;28;01mraise\u001b[39;00m pickle.UnpicklingError(_get_wo_message(\u001b[38;5;28mstr\u001b[39m(e))) \u001b[38;5;28;01mfrom\u001b[39;00m\u001b[38;5;250m \u001b[39m\u001b[38;5;28;01mNone\u001b[39;00m\n\u001b[32m   1525\u001b[39m \u001b[38;5;28;01mreturn\u001b[39;00m _load(\n\u001b[32m   1526\u001b[39m     opened_zipfile,\n\u001b[32m   1527\u001b[39m     map_location,\n\u001b[32m   (...)\u001b[39m\u001b[32m   1530\u001b[39m     **pickle_load_args,\n\u001b[32m   1531\u001b[39m )\n",
      "\u001b[31mUnpicklingError\u001b[39m: Weights only load failed. This file can still be loaded, to do so you have two options, \u001b[1mdo those steps only if you trust the source of the checkpoint\u001b[0m. \n\t(1) In PyTorch 2.6, we changed the default value of the `weights_only` argument in `torch.load` from `False` to `True`. Re-running `torch.load` with `weights_only` set to `False` will likely succeed, but it can result in arbitrary code execution. Do it only if you got the file from a trusted source.\n\t(2) Alternatively, to load with `weights_only=True` please check the recommended steps in the following error message.\n\tWeightsUnpickler error: Unsupported global: GLOBAL ultralytics.nn.tasks.DetectionModel was not an allowed global by default. Please use `torch.serialization.add_safe_globals([ultralytics.nn.tasks.DetectionModel])` or the `torch.serialization.safe_globals([ultralytics.nn.tasks.DetectionModel])` context manager to allowlist this global if you trust this class/function.\n\nCheck the documentation of torch.load to learn more about types accepted by default with weights_only https://pytorch.org/docs/stable/generated/torch.load.html.",
      "\nThe above exception was the direct cause of the following exception:\n",
      "\u001b[31mNotImplementedError\u001b[39m                       Traceback (most recent call last)",
      "\u001b[36mCell\u001b[39m\u001b[36m \u001b[39m\u001b[32mIn[5]\u001b[39m\u001b[32m, line 1\u001b[39m\n\u001b[32m----> \u001b[39m\u001b[32m1\u001b[39m model = \u001b[43mYOLO\u001b[49m\u001b[43m(\u001b[49m\u001b[33;43m'\u001b[39;49m\u001b[33;43mfoduucom/table-detection-and-extraction\u001b[39;49m\u001b[33;43m'\u001b[39;49m\u001b[43m)\u001b[49m\n",
      "\u001b[36mFile \u001b[39m\u001b[32mc:\\Users\\sarve\\Documents\\Personal Experiments\\Table Extraction\\.table_extraction\\Lib\\site-packages\\ultralyticsplus\\ultralytics_utils.py:62\u001b[39m, in \u001b[36mYOLO.__init__\u001b[39m\u001b[34m(self, model, type, hf_token)\u001b[39m\n\u001b[32m     60\u001b[39m         \u001b[38;5;28mself\u001b[39m._load(model)\n\u001b[32m     61\u001b[39m \u001b[38;5;28;01mexcept\u001b[39;00m \u001b[38;5;167;01mException\u001b[39;00m \u001b[38;5;28;01mas\u001b[39;00m e:\n\u001b[32m---> \u001b[39m\u001b[32m62\u001b[39m     \u001b[38;5;28;01mraise\u001b[39;00m \u001b[38;5;167;01mNotImplementedError\u001b[39;00m(\n\u001b[32m     63\u001b[39m         \u001b[33mf\u001b[39m\u001b[33m\"\u001b[39m\u001b[33mUnable to load model=\u001b[39m\u001b[33m'\u001b[39m\u001b[38;5;132;01m{\u001b[39;00mmodel\u001b[38;5;132;01m}\u001b[39;00m\u001b[33m'\u001b[39m\u001b[33m. \u001b[39m\u001b[33m\"\u001b[39m\n\u001b[32m     64\u001b[39m         \u001b[33mf\u001b[39m\u001b[33m\"\u001b[39m\u001b[33mAs an example try model=\u001b[39m\u001b[33m'\u001b[39m\u001b[33myolov8n.pt\u001b[39m\u001b[33m'\u001b[39m\u001b[33m or model=\u001b[39m\u001b[33m'\u001b[39m\u001b[33myolov8n.yaml\u001b[39m\u001b[33m'\u001b[39m\u001b[33m\"\u001b[39m\n\u001b[32m     65\u001b[39m     ) \u001b[38;5;28;01mfrom\u001b[39;00m\u001b[38;5;250m \u001b[39m\u001b[34;01me\u001b[39;00m\n",
      "\u001b[31mNotImplementedError\u001b[39m: Unable to load model='foduucom/table-detection-and-extraction'. As an example try model='yolov8n.pt' or model='yolov8n.yaml'"
     ]
    }
   ],
   "source": [
    "model = YOLO('foduucom/table-detection-and-extraction')"
   ]
  },
  {
   "cell_type": "code",
   "execution_count": null,
   "id": "a72bfe9f",
   "metadata": {},
   "outputs": [
    {
     "ename": "ImportError",
     "evalue": "cannot import name 'YOLOv8' from 'ultralytics' (c:\\Users\\sarve\\Documents\\Personal Experiments\\Table Extraction\\.table_extraction\\Lib\\site-packages\\ultralytics\\__init__.py)",
     "output_type": "error",
     "traceback": [
      "\u001b[31m---------------------------------------------------------------------------\u001b[39m",
      "\u001b[31mImportError\u001b[39m                               Traceback (most recent call last)",
      "\u001b[36mCell\u001b[39m\u001b[36m \u001b[39m\u001b[32mIn[8]\u001b[39m\u001b[32m, line 1\u001b[39m\n\u001b[32m----> \u001b[39m\u001b[32m1\u001b[39m \u001b[38;5;28;01mfrom\u001b[39;00m\u001b[38;5;250m \u001b[39m\u001b[34;01multralytics\u001b[39;00m\u001b[38;5;250m \u001b[39m\u001b[38;5;28;01mimport\u001b[39;00m YOLOv8\n\u001b[32m      3\u001b[39m model = YOLOvv8.from_pretrained(\u001b[33m\"\u001b[39m\u001b[33mfoduucom/table-detection-and-extraction\u001b[39m\u001b[33m\"\u001b[39m)\n\u001b[32m      4\u001b[39m source = \u001b[33m'\u001b[39m\u001b[33mhttp://images.cocodataset.org/val2017/000000039769.jpg\u001b[39m\u001b[33m'\u001b[39m\n",
      "\u001b[31mImportError\u001b[39m: cannot import name 'YOLOv8' from 'ultralytics' (c:\\Users\\sarve\\Documents\\Personal Experiments\\Table Extraction\\.table_extraction\\Lib\\site-packages\\ultralytics\\__init__.py)"
     ]
    }
   ],
   "source": [
    "from ultralytics import YOLOvv8\n",
    "\n",
    "model = YOLOvv8.from_pretrained(\"foduucom/table-detection-and-extraction\")\n",
    "source = 'http://images.cocodataset.org/val2017/000000039769.jpg'\n",
    "model.predict(source=source, save=True)"
   ]
  },
  {
   "cell_type": "code",
   "execution_count": null,
   "id": "facd20a3",
   "metadata": {},
   "outputs": [],
   "source": []
  },
  {
   "cell_type": "code",
   "execution_count": null,
   "id": "fd07458f",
   "metadata": {},
   "outputs": [],
   "source": []
  },
  {
   "cell_type": "code",
   "execution_count": null,
   "id": "60cdddc4",
   "metadata": {},
   "outputs": [],
   "source": []
  },
  {
   "cell_type": "code",
   "execution_count": null,
   "id": "e4c456f8",
   "metadata": {},
   "outputs": [],
   "source": []
  }
 ],
 "metadata": {
  "kernelspec": {
   "display_name": ".table_extraction",
   "language": "python",
   "name": "python3"
  },
  "language_info": {
   "codemirror_mode": {
    "name": "ipython",
    "version": 3
   },
   "file_extension": ".py",
   "mimetype": "text/x-python",
   "name": "python",
   "nbconvert_exporter": "python",
   "pygments_lexer": "ipython3",
   "version": "3.13.3"
  }
 },
 "nbformat": 4,
 "nbformat_minor": 5
}

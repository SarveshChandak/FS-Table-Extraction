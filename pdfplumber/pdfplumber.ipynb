{
 "cells": [
  {
   "cell_type": "code",
   "execution_count": 6,
   "id": "bf32b1b3",
   "metadata": {},
   "outputs": [],
   "source": [
    "import pdfplumber\n",
    "import pandas as pd\n",
    "import os"
   ]
  },
  {
   "cell_type": "code",
   "execution_count": 7,
   "id": "7528a2f5",
   "metadata": {},
   "outputs": [],
   "source": [
    "pdf_path = r\"C:\\Users\\sarve\\Downloads\\AAPL 2024 10k.pdf\"\n",
    "output_excel_path = \"./Output/tables_output.xlsx\"\n",
    "os.makedirs(os.path.dirname(output_excel_path), exist_ok=True)"
   ]
  },
  {
   "cell_type": "code",
   "execution_count": 8,
   "id": "dffc6468",
   "metadata": {},
   "outputs": [
    {
     "name": "stdout",
     "output_type": "stream",
     "text": [
      "✅ Extraction complete—saved to ./Output/tables_output.xlsx\n"
     ]
    }
   ],
   "source": [
    "settings = {\"vertical_strategy\": \"text\", \"horizontal_strategy\": \"text\"}\n",
    "\n",
    "with pdfplumber.open(pdf_path) as doc, pd.ExcelWriter(output_excel_path, engine=\"xlsxwriter\") as writer:\n",
    "    for page_num, page in enumerate(doc.pages, start=1):\n",
    "        tables = page.extract_tables(table_settings=settings)\n",
    "        for table_num, table in enumerate(tables, start=1):\n",
    "            if not table or not table[0]:\n",
    "                continue  # skip empty tables\n",
    "            df = pd.DataFrame(table[1:], columns=table[0])\n",
    "            sheet_name = f\"page{page_num}_table{table_num}\"[:31]\n",
    "            df.to_excel(writer, sheet_name=sheet_name, index=False, header=False)\n",
    "\n",
    "print(f\"✅ Extraction complete—saved to {output_excel_path}\")"
   ]
  },
  {
   "cell_type": "code",
   "execution_count": null,
   "id": "e5fd7fe8",
   "metadata": {},
   "outputs": [],
   "source": []
  }
 ],
 "metadata": {
  "kernelspec": {
   "display_name": ".table_extraction",
   "language": "python",
   "name": "python3"
  },
  "language_info": {
   "codemirror_mode": {
    "name": "ipython",
    "version": 3
   },
   "file_extension": ".py",
   "mimetype": "text/x-python",
   "name": "python",
   "nbconvert_exporter": "python",
   "pygments_lexer": "ipython3",
   "version": "3.13.3"
  }
 },
 "nbformat": 4,
 "nbformat_minor": 5
}

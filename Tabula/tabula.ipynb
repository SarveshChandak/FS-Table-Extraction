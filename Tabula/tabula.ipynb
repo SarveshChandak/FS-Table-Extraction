{
 "cells": [
  {
   "cell_type": "markdown",
   "id": "ba967314",
   "metadata": {},
   "source": [
    "- Took around 5 mins for 121 pager PDF"
   ]
  },
  {
   "cell_type": "code",
   "execution_count": null,
   "id": "70ee1cda",
   "metadata": {},
   "outputs": [],
   "source": [
    "import tabula\n",
    "import pandas as pd\n",
    "import fitz\n",
    "import os"
   ]
  },
  {
   "cell_type": "code",
   "execution_count": null,
   "id": "e5673fbe",
   "metadata": {},
   "outputs": [],
   "source": [
    "pdf_path = r\"C:\\Users\\sarve\\Downloads\\AAPL 2024 10k.pdf\"\n",
    "output_excel_path = \"./Output/tables_output.xlsx\"\n",
    "os.makedirs(os.path.dirname(output_excel_path), exist_ok=True)\n",
    "\n",
    "doc = fitz.open(pdf_path)\n",
    "total_pages = len(doc)"
   ]
  },
  {
   "cell_type": "code",
   "execution_count": null,
   "id": "efd4dec6",
   "metadata": {},
   "outputs": [],
   "source": [
    "with pd.ExcelWriter(output_excel_path, engine=\"xlsxwriter\") as writer:\n",
    "\n",
    "    # 3️⃣ Loop through each page\n",
    "    for page_num in range(1, total_pages + 1):\n",
    "        tables = tabula.read_pdf(\n",
    "            pdf_path,\n",
    "            pages=page_num,\n",
    "            multiple_tables=True,\n",
    "            stream=True # Use \"stream\" for extracting tables using space analysis. \"lattice\" for tables with borders\n",
    "        )\n",
    "\n",
    "        # 4️⃣ Save each table as its own sheet\n",
    "        for idx, df in enumerate(tables, start=1):\n",
    "            sheet_name = f\"page{page_num}_table{idx}\"\n",
    "            df.to_excel(writer, sheet_name=sheet_name, index=False, header=False)"
   ]
  },
  {
   "cell_type": "code",
   "execution_count": null,
   "id": "f9e3bc4a",
   "metadata": {},
   "outputs": [],
   "source": []
  },
  {
   "cell_type": "code",
   "execution_count": null,
   "id": "202d8cd4",
   "metadata": {},
   "outputs": [],
   "source": []
  }
 ],
 "metadata": {
  "kernelspec": {
   "display_name": ".table_extraction",
   "language": "python",
   "name": "python3"
  },
  "language_info": {
   "codemirror_mode": {
    "name": "ipython",
    "version": 3
   },
   "file_extension": ".py",
   "mimetype": "text/x-python",
   "name": "python",
   "nbconvert_exporter": "python",
   "pygments_lexer": "ipython3",
   "version": "3.13.3"
  }
 },
 "nbformat": 4,
 "nbformat_minor": 5
}

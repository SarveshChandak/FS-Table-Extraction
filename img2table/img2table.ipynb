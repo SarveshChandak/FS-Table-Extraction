{
 "cells": [
  {
   "cell_type": "code",
   "execution_count": 24,
   "id": "b62f83c0",
   "metadata": {},
   "outputs": [],
   "source": [
    "import pandas as pd\n",
    "from img2table.document import PDF\n",
    "from img2table.ocr import TesseractOCR\n",
    "import os"
   ]
  },
  {
   "cell_type": "code",
   "execution_count": 25,
   "id": "08965c26",
   "metadata": {},
   "outputs": [],
   "source": [
    "pdf_path = \"../Input/AAPL 2024 10k.pdf\"\n",
    "output_excel_path = \"./Output/tables_output.xlsx\"\n",
    "os.makedirs(os.path.dirname(output_excel_path), exist_ok=True)"
   ]
  },
  {
   "cell_type": "code",
   "execution_count": 28,
   "id": "5462ffd2",
   "metadata": {},
   "outputs": [
    {
     "ename": "TypeError",
     "evalue": "PDF.__init__() got an unexpected keyword argument 'dpi'",
     "output_type": "error",
     "traceback": [
      "\u001b[31m---------------------------------------------------------------------------\u001b[39m",
      "\u001b[31mTypeError\u001b[39m                                 Traceback (most recent call last)",
      "\u001b[36mCell\u001b[39m\u001b[36m \u001b[39m\u001b[32mIn[28]\u001b[39m\u001b[32m, line 1\u001b[39m\n\u001b[32m----> \u001b[39m\u001b[32m1\u001b[39m pdf_doc = \u001b[43mPDF\u001b[49m\u001b[43m(\u001b[49m\u001b[43msrc\u001b[49m\u001b[43m=\u001b[49m\u001b[43mpdf_path\u001b[49m\u001b[43m,\u001b[49m\u001b[43m \u001b[49m\u001b[43mdpi\u001b[49m\u001b[43m=\u001b[49m\u001b[32;43m300\u001b[39;49m\u001b[43m)\u001b[49m\n\u001b[32m      2\u001b[39m ocr = TesseractOCR(lang=\u001b[33m\"\u001b[39m\u001b[33meng\u001b[39m\u001b[33m\"\u001b[39m)\n",
      "\u001b[31mTypeError\u001b[39m: PDF.__init__() got an unexpected keyword argument 'dpi'"
     ]
    }
   ],
   "source": [
    "pdf_doc = PDF(src=pdf_path, dpi=300)\n",
    "ocr = TesseractOCR(lang=\"eng\")"
   ]
  },
  {
   "cell_type": "code",
   "execution_count": 27,
   "id": "5a6d6388",
   "metadata": {},
   "outputs": [
    {
     "ename": "NameError",
     "evalue": "name 'pdf_doc' is not defined",
     "output_type": "error",
     "traceback": [
      "\u001b[31m---------------------------------------------------------------------------\u001b[39m",
      "\u001b[31mNameError\u001b[39m                                 Traceback (most recent call last)",
      "\u001b[36mCell\u001b[39m\u001b[36m \u001b[39m\u001b[32mIn[27]\u001b[39m\u001b[32m, line 1\u001b[39m\n\u001b[32m----> \u001b[39m\u001b[32m1\u001b[39m tables_by_page = \u001b[43mpdf_doc\u001b[49m.extract_tables(\n\u001b[32m      2\u001b[39m     ocr=ocr,\n\u001b[32m      3\u001b[39m     implicit_rows=\u001b[38;5;28;01mTrue\u001b[39;00m,         \u001b[38;5;66;03m# Detects rows without visible lines\u001b[39;00m\n\u001b[32m      4\u001b[39m     borderless_tables=\u001b[38;5;28;01mTrue\u001b[39;00m      \u001b[38;5;66;03m# Helps with tables that rely on spacing\u001b[39;00m\n\u001b[32m      5\u001b[39m )\n",
      "\u001b[31mNameError\u001b[39m: name 'pdf_doc' is not defined"
     ]
    }
   ],
   "source": [
    "tables_by_page = pdf_doc.extract_tables(\n",
    "    ocr=ocr,\n",
    "    implicit_rows=True,         # Detects rows without visible lines\n",
    "    borderless_tables=True      # Helps with tables that rely on spacing\n",
    ")"
   ]
  },
  {
   "cell_type": "code",
   "execution_count": null,
   "id": "a383915a",
   "metadata": {},
   "outputs": [
    {
     "data": {
      "text/plain": [
       "{0: [],\n",
       " 1: [],\n",
       " 2: [],\n",
       " 3: [],\n",
       " 4: [],\n",
       " 5: [],\n",
       " 6: [],\n",
       " 7: [],\n",
       " 8: [],\n",
       " 9: [],\n",
       " 10: [],\n",
       " 11: [],\n",
       " 12: [],\n",
       " 13: [],\n",
       " 14: [],\n",
       " 15: [],\n",
       " 16: [],\n",
       " 17: [],\n",
       " 18: [],\n",
       " 19: [],\n",
       " 20: [],\n",
       " 21: [],\n",
       " 22: [],\n",
       " 23: [],\n",
       " 24: [],\n",
       " 25: [],\n",
       " 26: [],\n",
       " 27: [],\n",
       " 28: [],\n",
       " 29: [],\n",
       " 30: [],\n",
       " 31: [],\n",
       " 32: [],\n",
       " 33: [],\n",
       " 34: [],\n",
       " 35: [],\n",
       " 36: [],\n",
       " 37: [],\n",
       " 38: [],\n",
       " 39: [],\n",
       " 40: [],\n",
       " 41: [],\n",
       " 42: [],\n",
       " 43: [],\n",
       " 44: [],\n",
       " 45: [],\n",
       " 46: [],\n",
       " 47: [],\n",
       " 48: [],\n",
       " 49: [],\n",
       " 50: [],\n",
       " 51: [],\n",
       " 52: [],\n",
       " 53: [],\n",
       " 54: [],\n",
       " 55: [],\n",
       " 56: [],\n",
       " 57: [],\n",
       " 58: [],\n",
       " 59: [],\n",
       " 60: [],\n",
       " 61: [],\n",
       " 62: [],\n",
       " 63: [],\n",
       " 64: [],\n",
       " 65: [],\n",
       " 66: [],\n",
       " 67: [],\n",
       " 68: [],\n",
       " 69: [],\n",
       " 70: [],\n",
       " 71: [],\n",
       " 72: [],\n",
       " 73: [],\n",
       " 74: [],\n",
       " 75: [],\n",
       " 76: [],\n",
       " 77: [],\n",
       " 78: [],\n",
       " 79: [],\n",
       " 80: [],\n",
       " 81: [],\n",
       " 82: [],\n",
       " 83: [],\n",
       " 84: [],\n",
       " 85: [],\n",
       " 86: [],\n",
       " 87: [],\n",
       " 88: [],\n",
       " 89: [],\n",
       " 90: [],\n",
       " 91: [],\n",
       " 92: [],\n",
       " 93: [],\n",
       " 94: [],\n",
       " 95: [],\n",
       " 96: [],\n",
       " 97: [],\n",
       " 98: [],\n",
       " 99: [],\n",
       " 100: [],\n",
       " 101: [],\n",
       " 102: [],\n",
       " 103: [],\n",
       " 104: [],\n",
       " 105: [],\n",
       " 106: [],\n",
       " 107: [],\n",
       " 108: [],\n",
       " 109: [],\n",
       " 110: [ExtractedTable(title=None, bbox=(65, 670, 1630, 970),shape=(5, 3))],\n",
       " 111: [],\n",
       " 112: [],\n",
       " 113: [],\n",
       " 114: [],\n",
       " 115: [],\n",
       " 116: [],\n",
       " 117: [],\n",
       " 118: [],\n",
       " 119: [],\n",
       " 120: []}"
      ]
     },
     "execution_count": 15,
     "metadata": {},
     "output_type": "execute_result"
    }
   ],
   "source": [
    "# Write extracted tables to Excel\n",
    "with pd.ExcelWriter(output_excel_path, engine=\"xlsxwriter\") as writer:\n",
    "    for page_num, tables in tables_by_page.items():\n",
    "        for table_num, table in enumerate(tables, start=1):\n",
    "            sheet = f\"page{page_num + 1}_table{table_num}\"\n",
    "            df = table.df\n",
    "            df.to_excel(writer, sheet_name=sheet[:31], index=False)\n",
    "\n",
    "print(f\"✅ Extraction complete—saved to {output_excel_path}\")"
   ]
  }
 ],
 "metadata": {
  "kernelspec": {
   "display_name": ".table_extraction",
   "language": "python",
   "name": "python3"
  },
  "language_info": {
   "codemirror_mode": {
    "name": "ipython",
    "version": 3
   },
   "file_extension": ".py",
   "mimetype": "text/x-python",
   "name": "python",
   "nbconvert_exporter": "python",
   "pygments_lexer": "ipython3",
   "version": "3.13.3"
  }
 },
 "nbformat": 4,
 "nbformat_minor": 5
}

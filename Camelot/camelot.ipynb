{
 "cells": [
  {
   "cell_type": "markdown",
   "id": "fc59a0f3",
   "metadata": {},
   "source": [
    "- In Camelot, you cannot use multiple_tables=True while using flavor=\"stream\".\n",
    "- Took 40 secs for 121 pager PDF"
   ]
  },
  {
   "cell_type": "code",
   "execution_count": null,
   "id": "d076b2ce",
   "metadata": {},
   "outputs": [],
   "source": [
    "import camelot\n",
    "import pandas as pd\n",
    "import fitz\n",
    "import os"
   ]
  },
  {
   "cell_type": "code",
   "execution_count": null,
   "id": "c5e9d7af",
   "metadata": {},
   "outputs": [],
   "source": [
    "pdf_path = r\"C:\\Users\\sarve\\Downloads\\AAPL 2024 10k.pdf\"\n",
    "output_excel_path = \"./Output/tables_output.xlsx\"\n",
    "os.makedirs(os.path.dirname(output_excel_path), exist_ok=True)\n",
    "\n",
    "doc = fitz.open(pdf_path)\n",
    "total_pages = len(doc)"
   ]
  },
  {
   "cell_type": "code",
   "execution_count": 8,
   "id": "ebab6703",
   "metadata": {},
   "outputs": [
    {
     "name": "stderr",
     "output_type": "stream",
     "text": [
      "c:\\Users\\sarve\\Documents\\Personal Experiments\\Table Extraction\\.table_extraction\\Lib\\site-packages\\camelot\\parsers\\base.py:238: UserWarning: No tables found in table area (8.224997320625082, 174.13352306383365, 604.0000562484878, 759.8056740345521)\n",
      "  cols, rows, v_s, h_s = self._generate_columns_and_rows(bbox, user_cols)\n",
      "c:\\Users\\sarve\\Documents\\Personal Experiments\\Table Extraction\\.table_extraction\\Lib\\site-packages\\camelot\\parsers\\base.py:238: UserWarning: No tables found in table area (8.224997320625082, 218.68356315958124, 603.998652788646, 753.7042896439057)\n",
      "  cols, rows, v_s, h_s = self._generate_columns_and_rows(bbox, user_cols)\n",
      "c:\\Users\\sarve\\Documents\\Personal Experiments\\Table Extraction\\.table_extraction\\Lib\\site-packages\\camelot\\parsers\\base.py:238: UserWarning: No tables found in table area (8.224997320625082, 264.5833599830893, 603.9997672135205, 754.3790915677887)\n",
      "  cols, rows, v_s, h_s = self._generate_columns_and_rows(bbox, user_cols)\n",
      "c:\\Users\\sarve\\Documents\\Personal Experiments\\Table Extraction\\.table_extraction\\Lib\\site-packages\\camelot\\parsers\\base.py:238: UserWarning: No tables found in table area (8.224997320625082, 276.733517300834, 603.9999728184972, 753.7175030796446)\n",
      "  cols, rows, v_s, h_s = self._generate_columns_and_rows(bbox, user_cols)\n",
      "c:\\Users\\sarve\\Documents\\Personal Experiments\\Table Extraction\\.table_extraction\\Lib\\site-packages\\camelot\\parsers\\base.py:238: UserWarning: No tables found in table area (8.224997320625082, 187.63356517333239, 604.0000557084879, 753.7307183516762)\n",
      "  cols, rows, v_s, h_s = self._generate_columns_and_rows(bbox, user_cols)\n",
      "c:\\Users\\sarve\\Documents\\Personal Experiments\\Table Extraction\\.table_extraction\\Lib\\site-packages\\camelot\\parsers\\base.py:238: UserWarning: No tables found in table area (8.224997320625082, 236.2336038523307, 604.0019399707754, 753.7258680309759)\n",
      "  cols, rows, v_s, h_s = self._generate_columns_and_rows(bbox, user_cols)\n",
      "c:\\Users\\sarve\\Documents\\Personal Experiments\\Table Extraction\\.table_extraction\\Lib\\site-packages\\camelot\\parsers\\base.py:238: UserWarning: No tables found in table area (8.224997320625082, 257.1586421964538, 604.0000156134923, 754.3982823521333)\n",
      "  cols, rows, v_s, h_s = self._generate_columns_and_rows(bbox, user_cols)\n",
      "c:\\Users\\sarve\\Documents\\Personal Experiments\\Table Extraction\\.table_extraction\\Lib\\site-packages\\camelot\\parsers\\base.py:238: UserWarning: No tables found in table area (8.224997320625082, 212.60872930069934, 603.9997657285206, 753.720606886202)\n",
      "  cols, rows, v_s, h_s = self._generate_columns_and_rows(bbox, user_cols)\n",
      "c:\\Users\\sarve\\Documents\\Personal Experiments\\Table Extraction\\.table_extraction\\Lib\\site-packages\\camelot\\parsers\\base.py:238: UserWarning: No tables found in table area (8.224997320625082, 305.0831612555975, 604.0000158834924, 759.1038968749212)\n",
      "  cols, rows, v_s, h_s = self._generate_columns_and_rows(bbox, user_cols)\n",
      "c:\\Users\\sarve\\Documents\\Personal Experiments\\Table Extraction\\.table_extraction\\Lib\\site-packages\\camelot\\parsers\\base.py:238: UserWarning: No tables found in table area (8.224997320625082, 188.9833302050937, 604.0000974234832, 754.4077675505544)\n",
      "  cols, rows, v_s, h_s = self._generate_columns_and_rows(bbox, user_cols)\n",
      "c:\\Users\\sarve\\Documents\\Personal Experiments\\Table Extraction\\.table_extraction\\Lib\\site-packages\\camelot\\parsers\\base.py:238: UserWarning: No tables found in table area (8.224997320625082, 204.50833935021535, 604.0000551009879, 753.725599950987)\n",
      "  cols, rows, v_s, h_s = self._generate_columns_and_rows(bbox, user_cols)\n",
      "c:\\Users\\sarve\\Documents\\Personal Experiments\\Table Extraction\\.table_extraction\\Lib\\site-packages\\camelot\\parsers\\base.py:238: UserWarning: No tables found in table area (8.224997320625082, 230.83349934133537, 603.9998480785114, 759.1174793346457)\n",
      "  cols, rows, v_s, h_s = self._generate_columns_and_rows(bbox, user_cols)\n",
      "c:\\Users\\sarve\\Documents\\Personal Experiments\\Table Extraction\\.table_extraction\\Lib\\site-packages\\camelot\\parsers\\base.py:238: UserWarning: No tables found in table area (8.224997320625082, 189.65854507295796, 604.009159904961, 753.7231776922631)\n",
      "  cols, rows, v_s, h_s = self._generate_columns_and_rows(bbox, user_cols)\n",
      "c:\\Users\\sarve\\Documents\\Personal Experiments\\Table Extraction\\.table_extraction\\Lib\\site-packages\\camelot\\parsers\\base.py:238: UserWarning: No tables found in table area (8.224997320625082, 651.3585688434558, 603.9972965787991, 752.819894584254)\n",
      "  cols, rows, v_s, h_s = self._generate_columns_and_rows(bbox, user_cols)\n",
      "c:\\Users\\sarve\\Documents\\Personal Experiments\\Table Extraction\\.table_extraction\\Lib\\site-packages\\camelot\\parsers\\base.py:238: UserWarning: No tables found in table area (8.224997320625082, 143.7578972574828, 604.0000956009833, 754.4026550837951)\n",
      "  cols, rows, v_s, h_s = self._generate_columns_and_rows(bbox, user_cols)\n",
      "c:\\Users\\sarve\\Documents\\Personal Experiments\\Table Extraction\\.table_extraction\\Lib\\site-packages\\camelot\\parsers\\base.py:238: UserWarning: No tables found in table area (8.224997320625082, 201.80805290273008, 603.9958532939619, 732.0822442048586)\n",
      "  cols, rows, v_s, h_s = self._generate_columns_and_rows(bbox, user_cols)\n",
      "c:\\Users\\sarve\\Documents\\Personal Experiments\\Table Extraction\\.table_extraction\\Lib\\site-packages\\camelot\\parsers\\base.py:238: UserWarning: No tables found in table area (8.224997320625082, 570.358362122466, 603.9997673485202, 738.5645942178188)\n",
      "  cols, rows, v_s, h_s = self._generate_columns_and_rows(bbox, user_cols)\n",
      "c:\\Users\\sarve\\Documents\\Personal Experiments\\Table Extraction\\.table_extraction\\Lib\\site-packages\\camelot\\parsers\\base.py:238: UserWarning: No tables found in table area (8.224997320625082, 361.78368070107706, 604.0000562484878, 754.3471196751675)\n",
      "  cols, rows, v_s, h_s = self._generate_columns_and_rows(bbox, user_cols)\n",
      "c:\\Users\\sarve\\Documents\\Personal Experiments\\Table Extraction\\.table_extraction\\Lib\\site-packages\\camelot\\parsers\\base.py:238: UserWarning: No tables found in table area (9.121481594521569, 238.2586526319518, 603.1034925271005, 398.00813572853644)\n",
      "  cols, rows, v_s, h_s = self._generate_columns_and_rows(bbox, user_cols)\n",
      "c:\\Users\\sarve\\Documents\\Personal Experiments\\Table Extraction\\.table_extraction\\Lib\\site-packages\\camelot\\parsers\\base.py:238: UserWarning: No tables found in table area (168.65349822785365, 579.8086551047035, 603.1034533096047, 755.6206100534791)\n",
      "  cols, rows, v_s, h_s = self._generate_columns_and_rows(bbox, user_cols)\n",
      "c:\\Users\\sarve\\Documents\\Personal Experiments\\Table Extraction\\.table_extraction\\Lib\\site-packages\\camelot\\parsers\\base.py:238: UserWarning: No tables found in table area (8.224997320625082, 222.05892292294254, 604.0000955334833, 753.6879769762234)\n",
      "  cols, rows, v_s, h_s = self._generate_columns_and_rows(bbox, user_cols)\n",
      "c:\\Users\\sarve\\Documents\\Personal Experiments\\Table Extraction\\.table_extraction\\Lib\\site-packages\\camelot\\parsers\\base.py:238: UserWarning: No tables found in table area (8.224997320625082, 201.1322434588891, 603.7481129994013, 705.2321877353937)\n",
      "  cols, rows, v_s, h_s = self._generate_columns_and_rows(bbox, user_cols)\n",
      "c:\\Users\\sarve\\Documents\\Personal Experiments\\Table Extraction\\.table_extraction\\Lib\\site-packages\\camelot\\parsers\\base.py:238: UserWarning: No tables found in table area (8.224997320625082, 229.48220949364065, 602.9175512430703, 712.6571561300192)\n",
      "  cols, rows, v_s, h_s = self._generate_columns_and_rows(bbox, user_cols)\n",
      "c:\\Users\\sarve\\Documents\\Personal Experiments\\Table Extraction\\.table_extraction\\Lib\\site-packages\\camelot\\parsers\\base.py:238: UserWarning: No tables found in table area (8.224997320625082, 211.25737537300472, 603.0362052946888, 741.682316680632)\n",
      "  cols, rows, v_s, h_s = self._generate_columns_and_rows(bbox, user_cols)\n",
      "c:\\Users\\sarve\\Documents\\Personal Experiments\\Table Extraction\\.table_extraction\\Lib\\site-packages\\camelot\\parsers\\base.py:238: UserWarning: No tables found in table area (8.224997320625082, 204.5076406142415, 603.2299737428351, 732.907582150245)\n",
      "  cols, rows, v_s, h_s = self._generate_columns_and_rows(bbox, user_cols)\n",
      "c:\\Users\\sarve\\Documents\\Personal Experiments\\Table Extraction\\.table_extraction\\Lib\\site-packages\\camelot\\parsers\\base.py:238: UserWarning: No tables found in table area (8.224997320625082, 578.4576432729899, 594.4892541985942, 744.3826256881188)\n",
      "  cols, rows, v_s, h_s = self._generate_columns_and_rows(bbox, user_cols)\n",
      "c:\\Users\\sarve\\Documents\\Personal Experiments\\Table Extraction\\.table_extraction\\Lib\\site-packages\\camelot\\parsers\\base.py:238: UserWarning: No tables found in table area (8.224997320625082, 213.2822500566416, 597.8352471812404, 320.48223909463957)\n",
      "  cols, rows, v_s, h_s = self._generate_columns_and_rows(bbox, user_cols)\n",
      "c:\\Users\\sarve\\Documents\\Personal Experiments\\Table Extraction\\.table_extraction\\Lib\\site-packages\\camelot\\parsers\\base.py:238: UserWarning: No tables found in table area (8.224997320625082, 272.6816883336668, 603.4950005829469, 741.0066366447903)\n",
      "  cols, rows, v_s, h_s = self._generate_columns_and_rows(bbox, user_cols)\n",
      "c:\\Users\\sarve\\Documents\\Personal Experiments\\Table Extraction\\.table_extraction\\Lib\\site-packages\\camelot\\parsers\\base.py:238: UserWarning: No tables found in table area (8.224997320625082, 271.8177136982146, 603.9992792778218, 569.3541808654899)\n",
      "  cols, rows, v_s, h_s = self._generate_columns_and_rows(bbox, user_cols)\n",
      "c:\\Users\\sarve\\Documents\\Personal Experiments\\Table Extraction\\.table_extraction\\Lib\\site-packages\\camelot\\parsers\\base.py:238: UserWarning: No tables found in table area (8.224997320625082, 252.91659886976657, 603.9992911023239, 716.5030473102869)\n",
      "  cols, rows, v_s, h_s = self._generate_columns_and_rows(bbox, user_cols)\n",
      "c:\\Users\\sarve\\Documents\\Personal Experiments\\Table Extraction\\.table_extraction\\Lib\\site-packages\\camelot\\parsers\\base.py:238: UserWarning: No tables found in table area (8.224997320625082, 242.11792747970568, 603.9987764509168, 748.9043710482273)\n",
      "  cols, rows, v_s, h_s = self._generate_columns_and_rows(bbox, user_cols)\n",
      "c:\\Users\\sarve\\Documents\\Personal Experiments\\Table Extraction\\.table_extraction\\Lib\\site-packages\\camelot\\parsers\\base.py:238: UserWarning: No tables found in table area (8.224997320625082, 371.04355589980213, 603.9972600830502, 748.230014084327)\n",
      "  cols, rows, v_s, h_s = self._generate_columns_and_rows(bbox, user_cols)\n",
      "c:\\Users\\sarve\\Documents\\Personal Experiments\\Table Extraction\\.table_extraction\\Lib\\site-packages\\camelot\\parsers\\base.py:238: UserWarning: No tables found in table area (8.224997320625082, 304.8917967201366, 604.0028141654616, 601.7532639635373)\n",
      "  cols, rows, v_s, h_s = self._generate_columns_and_rows(bbox, user_cols)\n",
      "c:\\Users\\sarve\\Documents\\Personal Experiments\\Table Extraction\\.table_extraction\\Lib\\site-packages\\camelot\\parsers\\base.py:238: UserWarning: No tables found in table area (8.224997320625082, 252.2436833458002, 603.9998470682965, 715.8301317863278)\n",
      "  cols, rows, v_s, h_s = self._generate_columns_and_rows(bbox, user_cols)\n",
      "c:\\Users\\sarve\\Documents\\Personal Experiments\\Table Extraction\\.table_extraction\\Lib\\site-packages\\camelot\\parsers\\base.py:238: UserWarning: No tables found in table area (8.224997320625082, 263.04261028785066, 603.998294047933, 748.2290562923789)\n",
      "  cols, rows, v_s, h_s = self._generate_columns_and_rows(bbox, user_cols)\n",
      "c:\\Users\\sarve\\Documents\\Personal Experiments\\Table Extraction\\.table_extraction\\Lib\\site-packages\\camelot\\parsers\\base.py:238: UserWarning: No tables found in table area (8.224997320625082, 327.84324440381414, 603.9987764509168, 748.2296977163403)\n",
      "  cols, rows, v_s, h_s = self._generate_columns_and_rows(bbox, user_cols)\n",
      "c:\\Users\\sarve\\Documents\\Personal Experiments\\Table Extraction\\.table_extraction\\Lib\\site-packages\\camelot\\parsers\\base.py:238: UserWarning: No tables found in table area (8.224997320625082, 284.64393524379074, 603.999951853472, 402.63042266031505)\n",
      "  cols, rows, v_s, h_s = self._generate_columns_and_rows(bbox, user_cols)\n",
      "c:\\Users\\sarve\\Documents\\Personal Experiments\\Table Extraction\\.table_extraction\\Lib\\site-packages\\camelot\\parsers\\base.py:238: UserWarning: No tables found in table area (8.224997320625082, 262.3671774519923, 603.9992792778218, 559.9036446192603)\n",
      "  cols, rows, v_s, h_s = self._generate_columns_and_rows(bbox, user_cols)\n",
      "c:\\Users\\sarve\\Documents\\Personal Experiments\\Table Extraction\\.table_extraction\\Lib\\site-packages\\camelot\\parsers\\base.py:238: UserWarning: No tables found in table area (8.224997320625082, 241.44226352386133, 603.9997403822737, 715.8287107463892)\n",
      "  cols, rows, v_s, h_s = self._generate_columns_and_rows(bbox, user_cols)\n",
      "c:\\Users\\sarve\\Documents\\Personal Experiments\\Table Extraction\\.table_extraction\\Lib\\site-packages\\camelot\\parsers\\base.py:238: UserWarning: No tables found in table area (8.224997320625082, 241.4429901958308, 603.998294047933, 737.4294349823593)\n",
      "  cols, rows, v_s, h_s = self._generate_columns_and_rows(bbox, user_cols)\n",
      "c:\\Users\\sarve\\Documents\\Personal Experiments\\Table Extraction\\.table_extraction\\Lib\\site-packages\\camelot\\parsers\\base.py:238: UserWarning: No tables found in table area (8.224997320625082, 252.91803190970194, 603.9987764509168, 748.9044766962305)\n",
      "  cols, rows, v_s, h_s = self._generate_columns_and_rows(bbox, user_cols)\n",
      "c:\\Users\\sarve\\Documents\\Personal Experiments\\Table Extraction\\.table_extraction\\Lib\\site-packages\\camelot\\parsers\\base.py:238: UserWarning: No tables found in table area (0, 0, 612.0, 792.0)\n",
      "  cols, rows, v_s, h_s = self._generate_columns_and_rows(bbox, user_cols)\n",
      "c:\\Users\\sarve\\Documents\\Personal Experiments\\Table Extraction\\.table_extraction\\Lib\\site-packages\\camelot\\parsers\\base.py:238: UserWarning: No tables found in table area (8.224997320625082, 304.8942816320293, 604.0028141654616, 601.7557488754227)\n",
      "  cols, rows, v_s, h_s = self._generate_columns_and_rows(bbox, user_cols)\n",
      "c:\\Users\\sarve\\Documents\\Personal Experiments\\Table Extraction\\.table_extraction\\Lib\\site-packages\\camelot\\parsers\\base.py:238: UserWarning: No tables found in table area (8.224997320625082, 241.4426960998487, 603.998294047933, 748.2291396683776)\n",
      "  cols, rows, v_s, h_s = self._generate_columns_and_rows(bbox, user_cols)\n",
      "c:\\Users\\sarve\\Documents\\Personal Experiments\\Table Extraction\\.table_extraction\\Lib\\site-packages\\camelot\\parsers\\base.py:238: UserWarning: No tables found in table area (8.224997320625082, 295.4433329698174, 603.9987764509168, 748.2297826283447)\n",
      "  cols, rows, v_s, h_s = self._generate_columns_and_rows(bbox, user_cols)\n",
      "c:\\Users\\sarve\\Documents\\Personal Experiments\\Table Extraction\\.table_extraction\\Lib\\site-packages\\camelot\\parsers\\base.py:238: UserWarning: No tables found in table area (8.224997320625082, 284.64402245978516, 603.999951853472, 402.6305098763095)\n",
      "  cols, rows, v_s, h_s = self._generate_columns_and_rows(bbox, user_cols)\n",
      "c:\\Users\\sarve\\Documents\\Personal Experiments\\Table Extraction\\.table_extraction\\Lib\\site-packages\\camelot\\parsers\\base.py:238: UserWarning: No tables found in table area (0, 0, 612.0, 792.0)\n",
      "  cols, rows, v_s, h_s = self._generate_columns_and_rows(bbox, user_cols)\n",
      "c:\\Users\\sarve\\Documents\\Personal Experiments\\Table Extraction\\.table_extraction\\Lib\\site-packages\\camelot\\parsers\\base.py:238: UserWarning: No tables found in table area (13.171481137771579, 421.6697139023842, 594.3085556607205, 737.9036789254662)\n",
      "  cols, rows, v_s, h_s = self._generate_columns_and_rows(bbox, user_cols)\n",
      "c:\\Users\\sarve\\Documents\\Personal Experiments\\Table Extraction\\.table_extraction\\Lib\\site-packages\\camelot\\parsers\\base.py:238: UserWarning: No tables found in table area (8.224997320625082, 362.26559581755527, 597.7139928297015, 698.5589376586927)\n",
      "  cols, rows, v_s, h_s = self._generate_columns_and_rows(bbox, user_cols)\n"
     ]
    },
    {
     "name": "stdout",
     "output_type": "stream",
     "text": [
      "✅ Extraction complete—saved to ./Output/tables_output.xlsx\n"
     ]
    }
   ],
   "source": [
    "with pd.ExcelWriter(output_excel_path, engine=\"xlsxwriter\") as writer:\n",
    "    for page in range(1, total_pages + 1):\n",
    "        tables = camelot.read_pdf(\n",
    "            pdf_path,\n",
    "            pages=str(page),\n",
    "            flavor=\"stream\", # Use \"stream\" for extracting tables using space analysis. \"lattice\" for tables with borders\n",
    "            edge_tol=300\n",
    "        )\n",
    "        # print(f\"Page {page}: found {tables.n} tables\")\n",
    "\n",
    "        for t_idx, table in enumerate(tables, start=1):\n",
    "            sheet_name = f\"page{page}_table{t_idx}\"\n",
    "            table.df.to_excel(writer, sheet_name=sheet_name, index=False, header=False)\n",
    "\n",
    "print(\"✅ Extraction complete—saved to\", output_excel_path)"
   ]
  }
 ],
 "metadata": {
  "kernelspec": {
   "display_name": ".table_extraction",
   "language": "python",
   "name": "python3"
  },
  "language_info": {
   "codemirror_mode": {
    "name": "ipython",
    "version": 3
   },
   "file_extension": ".py",
   "mimetype": "text/x-python",
   "name": "python",
   "nbconvert_exporter": "python",
   "pygments_lexer": "ipython3",
   "version": "3.13.3"
  }
 },
 "nbformat": 4,
 "nbformat_minor": 5
}

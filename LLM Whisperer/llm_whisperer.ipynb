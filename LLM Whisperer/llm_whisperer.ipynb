{
 "cells": [
  {
   "cell_type": "markdown",
   "id": "7a9ba9cc",
   "metadata": {},
   "source": [
    "- Unable to extract borderless tables\n",
    "- Unable to extract even bordered tables in correct format.\n",
    "- The main purpose of this library is to just extract the text (native or non-native)"
   ]
  },
  {
   "cell_type": "code",
   "execution_count": null,
   "id": "a827f8d0",
   "metadata": {},
   "outputs": [],
   "source": [
    "from unstract.llmwhisperer import LLMWhispererClientV2\n",
    "import pandas as pd\n",
    "import os, re"
   ]
  },
  {
   "cell_type": "code",
   "execution_count": 2,
   "id": "dd4e39ce",
   "metadata": {},
   "outputs": [],
   "source": [
    "pdf_path = \"../Input/sample_table.pdf\"\n",
    "output_excel_path = \"./Output/tables_output.xlsx\"\n",
    "os.makedirs(os.path.dirname(output_excel_path), exist_ok=True)"
   ]
  },
  {
   "cell_type": "code",
   "execution_count": 3,
   "id": "32c61639",
   "metadata": {},
   "outputs": [],
   "source": [
    "os.environ[\"LLMWHISPERER_API_KEY\"] = \"oediOQlucV0m9iebZEhW95LufbCdzBFXlBETlS1qdVU\"\n",
    "os.environ[\"LLMWHISPERER_BASE_URL\"] = \"https://llmwhisperer-api.us-central.unstract.com/api/v2\""
   ]
  },
  {
   "cell_type": "code",
   "execution_count": 4,
   "id": "d6dcec2b",
   "metadata": {},
   "outputs": [
    {
     "name": "stderr",
     "output_type": "stream",
     "text": [
      "2025-06-24 10:33:48,999 - unstract.llmwhisperer.client_v2 - DEBUG - logging_level set to DEBUG\n",
      "2025-06-24 10:33:49,000 - unstract.llmwhisperer.client_v2 - DEBUG - base_url set to https://llmwhisperer-api.us-central.unstract.com/api/v2\n",
      "2025-06-24 10:33:49,002 - unstract.llmwhisperer.client_v2 - DEBUG - get_usage_info called\n",
      "2025-06-24 10:33:49,003 - unstract.llmwhisperer.client_v2 - DEBUG - url: https://llmwhisperer-api.us-central.unstract.com/api/v2/get-usage-info\n"
     ]
    },
    {
     "name": "stdout",
     "output_type": "stream",
     "text": [
      "{'current_page_count': -1, 'daily_quota': 100, 'monthly_quota': -1, 'overage_page_count': -1, 'subscription_plan': 'LLM Whisperer Free', 'today_page_count': 29}\n"
     ]
    }
   ],
   "source": [
    "client = LLMWhispererClientV2()\n",
    "usage_info = client.get_usage_info()\n",
    "print(usage_info)"
   ]
  },
  {
   "cell_type": "code",
   "execution_count": 5,
   "id": "cb4c2c51",
   "metadata": {},
   "outputs": [
    {
     "name": "stderr",
     "output_type": "stream",
     "text": [
      "2025-06-24 10:33:52,511 - unstract.llmwhisperer.client_v2 - DEBUG - whisper called\n",
      "2025-06-24 10:33:52,513 - unstract.llmwhisperer.client_v2 - DEBUG - api_url: https://llmwhisperer-api.us-central.unstract.com/api/v2/whisper\n",
      "2025-06-24 10:33:52,515 - unstract.llmwhisperer.client_v2 - DEBUG - params: {'mode': 'form', 'output_mode': 'layout_preserving', 'page_seperator': '<<<', 'pages_to_extract': '', 'median_filter_size': 0, 'gaussian_blur_radius': 0, 'line_splitter_tolerance': 0.4, 'horizontal_stretch_factor': 1.0, 'mark_vertical_lines': True, 'mark_horizontal_lines': True, 'line_spitter_strategy': 'left-priority', 'add_line_nos': False, 'lang': 'eng', 'tag': 'default', 'filename': '', 'webhook_metadata': '', 'use_webhook': ''}\n",
      "2025-06-24 10:33:53,902 - unstract.llmwhisperer.client_v2 - DEBUG - whisper_status called\n",
      "2025-06-24 10:33:53,904 - unstract.llmwhisperer.client_v2 - DEBUG - url: https://llmwhisperer-api.us-central.unstract.com/api/v2/whisper-status\n",
      "2025-06-24 10:33:54,452 - unstract.llmwhisperer.client_v2 - DEBUG - Whisper-hash:a0be0536|aa670b30c96f84f69f411fd938753072 | STATUS: processing...\n",
      "2025-06-24 10:33:59,453 - unstract.llmwhisperer.client_v2 - DEBUG - whisper_status called\n",
      "2025-06-24 10:33:59,455 - unstract.llmwhisperer.client_v2 - DEBUG - url: https://llmwhisperer-api.us-central.unstract.com/api/v2/whisper-status\n",
      "2025-06-24 10:34:00,373 - unstract.llmwhisperer.client_v2 - DEBUG - Whisper-hash:a0be0536|aa670b30c96f84f69f411fd938753072 | STATUS: processed!\n",
      "2025-06-24 10:34:00,375 - unstract.llmwhisperer.client_v2 - DEBUG - whisper_retrieve called\n",
      "2025-06-24 10:34:00,377 - unstract.llmwhisperer.client_v2 - DEBUG - url: https://llmwhisperer-api.us-central.unstract.com/api/v2/whisper-retrieve\n"
     ]
    },
    {
     "name": "stdout",
     "output_type": "stream",
     "text": [
      "\n",
      "\n",
      "Example table \n",
      "\n",
      "This is an example of a data table. \n",
      "\n",
      "     ------------------------------------------------------------------------\n",
      "     |               |              |             |                | Results \n",
      "     |               |              |             | Ballots \n",
      "     | Disability    |              | Ballots \n",
      "                                                                    ----------------\n",
      "     |               | Participants |             | Incomplete/ Accuracy   Time to \n",
      "     | Category      |              | Completed \n",
      "     |               |              |             | Terminated \n",
      "     |               |              |             |                |       complete \n",
      "\n",
      "     -------------------------------------------------------------------------------\n",
      "     | Blind         |  5         1 |           4                   | 34.5%, n=1 1199 sec, n=1 \n",
      "\n",
      "     -------------------------------------------------------------------------------\n",
      "     | Low Vision    |  5         2 |           3      98.3% n=2   1716 sec, n=3 \n",
      "\n",
      "     |               |              |             |                | (97.7%, n=3)  | (1934 sec, n=2) \n",
      "\n",
      "     -------------------------------------------------------------------------------\n",
      "     | Dexterity     |  5         4 |           1                   | 98.3%, n=4    | 1672.1 sec, n=4 \n",
      "\n",
      "     -------------------------------------------------------------------------------\n",
      "     | Mobility      |  3         3 |           0                   | 95.4%, n=3 1416 sec, n=3 \n",
      "<<<\f\n"
     ]
    }
   ],
   "source": [
    "whisper = client.whisper(\n",
    "    file_path=pdf_path, \n",
    "    wait_for_completion=True,\n",
    "    mark_vertical_lines=True,      # reproduce vertical lines\n",
    "    mark_horizontal_lines=True,    # reproduce horizontal lines\n",
    "    wait_timeout=200\n",
    ")\n",
    "\n",
    "result = whisper[\"extraction\"]\n",
    "print(result['result_text'])"
   ]
  },
  {
   "cell_type": "code",
   "execution_count": 6,
   "id": "4256b7c2",
   "metadata": {},
   "outputs": [
    {
     "name": "stdout",
     "output_type": "stream",
     "text": [
      "          Col1          Col2                              Col3  \\\n",
      "0                                                                \n",
      "1                                                                \n",
      "2   Disability                                         Ballots   \n",
      "3               Participants                                     \n",
      "4     Category                                       Completed   \n",
      "5                                                                \n",
      "6                                                                \n",
      "7        Blind   5         1                                 4   \n",
      "8   Low Vision   5         2  3      98.3% n=2   1716 sec, n=3   \n",
      "9                                                                \n",
      "10   Dexterity   5         4                                 1   \n",
      "11    Mobility   3         3                                 0   \n",
      "\n",
      "                              Col4             Col5             Col6  \n",
      "0                                           Results                   \n",
      "1                          Ballots                                    \n",
      "2                                                                     \n",
      "3   Incomplete/ Accuracy   Time to                                    \n",
      "4                                                                     \n",
      "5                       Terminated                                    \n",
      "6                                          complete                   \n",
      "7         34.5%, n=1 1199 sec, n=1                                    \n",
      "8                                                                     \n",
      "9                                      (97.7%, n=3)  (1934 sec, n=2)  \n",
      "10                      98.3%, n=4  1672.1 sec, n=4                   \n",
      "11        95.4%, n=3 1416 sec, n=3                                    \n",
      "✅ Wrote 12 rows × 6 columns to excel file: ./Output/tables_output.xlsx\n"
     ]
    }
   ],
   "source": [
    "text = result['result_text']\n",
    "lines = [l for l in text.splitlines() if l.strip()]\n",
    "\n",
    "# 1. Remove pure-dash separator lines (allow leading spaces)\n",
    "content_lines = [l for l in lines if not re.match(r'^\\s*-+\\s*$', l)]\n",
    "\n",
    "# 2. Collect every line that contains at least one pipe\n",
    "table_lines = [l for l in content_lines if '|' in l]\n",
    "\n",
    "# 3. Split each line into cells, padding so each row has same width\n",
    "rows = []\n",
    "for l in table_lines:\n",
    "    # strip just the leading/trailing whitespace (but keep pipes)\n",
    "    row = l.strip()\n",
    "    # ensure it both starts and ends with '|' so split is consistent\n",
    "    if not row.startswith('|'):\n",
    "        row = '|' + row\n",
    "    if not row.endswith('|'):\n",
    "        row = row + '|'\n",
    "    # split on '|' and drop the empty first/last\n",
    "    cells = [c.strip() for c in row.split('|')[1:-1]]\n",
    "    rows.append(cells)\n",
    "\n",
    "if not rows:\n",
    "    print(\"❌ No pipe-delimited lines found at all.\")\n",
    "else:\n",
    "    # 4. Pad rows so each has the same number of columns\n",
    "    max_cols = max(len(r) for r in rows)\n",
    "    padded = [r + ['']*(max_cols - len(r)) for r in rows]\n",
    "\n",
    "    # 5. Build a DataFrame (generic column names)\n",
    "    cols = [f\"Col{i+1}\" for i in range(max_cols)]\n",
    "    df = pd.DataFrame(padded, columns=cols)\n",
    "    print(df)\n",
    "\n",
    "    # 6. Write to Excel\n",
    "    writer = pd.ExcelWriter(output_excel_path, engine=\"xlsxwriter\")\n",
    "    df.to_excel(writer, sheet_name=\"ExtractedTable\", index=False)\n",
    "    writer.close()\n",
    "    print(f\"✅ Wrote {len(df)} rows × {len(cols)} columns to excel file: {output_excel_path}\")\n"
   ]
  },
  {
   "cell_type": "code",
   "execution_count": null,
   "id": "f47c61df",
   "metadata": {},
   "outputs": [],
   "source": []
  }
 ],
 "metadata": {
  "kernelspec": {
   "display_name": ".table_extraction",
   "language": "python",
   "name": "python3"
  },
  "language_info": {
   "codemirror_mode": {
    "name": "ipython",
    "version": 3
   },
   "file_extension": ".py",
   "mimetype": "text/x-python",
   "name": "python",
   "nbconvert_exporter": "python",
   "pygments_lexer": "ipython3",
   "version": "3.13.3"
  }
 },
 "nbformat": 4,
 "nbformat_minor": 5
}
